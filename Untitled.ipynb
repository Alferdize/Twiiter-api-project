{
 "cells": [
  {
   "cell_type": "code",
   "execution_count": 1,
   "metadata": {},
   "outputs": [],
   "source": [
    "ACCESS_TOKEN = \"2809971486-5mKvKePcThcQ2kzeoZmNo7AXBTbDfvkszjzLhDN\"\n",
    "ACCESS_TOKEN_SECRET = \"bW86Z7h2L4hun3NPiqQhkbWT3ElP4eTXrX0Q8BvxuWiSC\"\n",
    "CONSUMER_KEY = \"pj7DbLI2behFKsIsAMJ21DBgR\"\n",
    "CONSUMER_SECRET = \"ZleGkjuNzHZIEhKNUFuKtuDqbXPI0ixvXWsH6msVwrtX4SoC5e\""
   ]
  },
  {
   "cell_type": "code",
   "execution_count": null,
   "metadata": {},
   "outputs": [],
   "source": []
  }
 ],
 "metadata": {
  "kernelspec": {
   "display_name": "Python 3",
   "language": "python",
   "name": "python3"
  },
  "language_info": {
   "codemirror_mode": {
    "name": "ipython",
    "version": 3
   },
   "file_extension": ".py",
   "mimetype": "text/x-python",
   "name": "python",
   "nbconvert_exporter": "python",
   "pygments_lexer": "ipython3",
   "version": "3.6.5"
  }
 },
 "nbformat": 4,
 "nbformat_minor": 2
}
